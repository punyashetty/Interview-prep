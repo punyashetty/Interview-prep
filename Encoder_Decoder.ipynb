{
  "nbformat": 4,
  "nbformat_minor": 0,
  "metadata": {
    "kernelspec": {
      "display_name": "Python 3",
      "language": "python",
      "name": "python3"
    },
    "language_info": {
      "codemirror_mode": {
        "name": "ipython",
        "version": 3
      },
      "file_extension": ".py",
      "mimetype": "text/x-python",
      "name": "python",
      "nbconvert_exporter": "python",
      "pygments_lexer": "ipython3",
      "version": "3.8.5"
    },
    "colab": {
      "name": "RLE.ipynb",
      "provenance": [],
      "collapsed_sections": []
    }
  },
  "cells": [
    {
      "cell_type": "code",
      "metadata": {
        "id": "F6zv3Pg5mT2v"
      },
      "source": [
        "def encode_message(message):\n",
        "    encoded_string = \"\"\n",
        "    i = 0\n",
        "    while (i <= len(message)-1):\n",
        "        count = 1\n",
        "        ch = message[i]\n",
        "        j = i\n",
        "        while (j < len(message)-1): \n",
        "            if (message[j] == message[j + 1]): \n",
        "                count = count + 1\n",
        "                j = j + 1\n",
        "            else: \n",
        "                break\n",
        "        encoded_string = encoded_string + str(count) + ch\n",
        "        i = j + 1\n",
        "    return encoded_string"
      ],
      "execution_count": null,
      "outputs": []
    },
    {
      "cell_type": "code",
      "metadata": {
        "id": "Vk5MhyanmT2z"
      },
      "source": [
        "def decode_message(our_message):\n",
        "\tdecoded_message = \"\"\n",
        "\ti=0\n",
        "\tj=0\n",
        "\twhile (i <= len(our_message)-1):\n",
        "\t\trun_count = int(our_message[i])\n",
        "\t\trun_word = our_message[i + 1]\n",
        "\t\tfor j in range(run_count):\n",
        "\t\t\tdecoded_message = decoded_message+run_word\n",
        "\t\t\tj = j + 1\n",
        "\t\ti = i + 2\n",
        "\treturn decoded_message"
      ],
      "execution_count": null,
      "outputs": []
    },
    {
      "cell_type": "code",
      "metadata": {
        "id": "Cwu5QyQcmT20"
      },
      "source": [
        "def display():\n",
        "\tour_message = \"AuuBBBCCCCCCcccccCCCCCCCCCA\"\n",
        "\tencoded_message=encode_message(our_message)\n",
        "\tdecoded_message=decode_message(encoded_message)\n",
        "\tprint(\"Original string: [\"+our_message+\"]\\nEncoded string: [\"+encoded_message+\"]\\nDecoded string: [\"+decoded_message+\"]\\n\")"
      ],
      "execution_count": null,
      "outputs": []
    },
    {
      "cell_type": "code",
      "metadata": {
        "id": "PDG-OJtvmT20",
        "colab": {
          "base_uri": "https://localhost:8080/"
        },
        "outputId": "82ee6c87-3f0a-4c4e-c238-13a30bd78ab4"
      },
      "source": [
        "display()"
      ],
      "execution_count": null,
      "outputs": [
        {
          "output_type": "stream",
          "text": [
            "Original string: [AuuBBBCCCCCCcccccCCCCCCCCCA]\n",
            "Encoded string: [1A2u3B6C5c9C1A]\n",
            "Decoded string: [AuuBBBCCCCCCcccccCCCCCCCCCA]\n",
            "\n"
          ],
          "name": "stdout"
        }
      ]
    },
    {
      "cell_type": "code",
      "source": [
        "# Time Complexity = O(n)"
      ],
      "metadata": {
        "id": "4FL1-h206zXW"
      },
      "execution_count": null,
      "outputs": []
    }
  ]
}